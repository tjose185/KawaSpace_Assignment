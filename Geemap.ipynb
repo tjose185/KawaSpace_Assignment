{
  "nbformat": 4,
  "nbformat_minor": 0,
  "metadata": {
    "colab": {
      "name": "Geemap.ipynb",
      "provenance": []
    },
    "kernelspec": {
      "name": "python3",
      "display_name": "Python 3"
    },
    "language_info": {
      "name": "python"
    }
  },
  "cells": [
    {
      "cell_type": "code",
      "metadata": {
        "colab": {
          "base_uri": "https://localhost:8080/",
          "height": 1000
        },
        "id": "B4ggSTBqsGXZ",
        "outputId": "21dfac95-a086-4091-9243-1b6574f88020"
      },
      "source": [
        "pip install geemap"
      ],
      "execution_count": null,
      "outputs": [
        {
          "output_type": "stream",
          "text": [
            "Collecting geemap\n",
            "\u001b[?25l  Downloading https://files.pythonhosted.org/packages/91/ee/eca083205dd1179d399f6698029ab441bcc172b8735e780ef6a6e3cbdea6/geemap-0.8.15-py2.py3-none-any.whl (450kB)\n",
            "\u001b[K     |████████████████████████████████| 450kB 3.7MB/s \n",
            "\u001b[?25hCollecting ffmpeg-python\n",
            "  Downloading https://files.pythonhosted.org/packages/d7/0c/56be52741f75bad4dc6555991fabd2e07b432d333da82c11ad701123888a/ffmpeg_python-0.2.0-py3-none-any.whl\n",
            "Collecting ipynb-py-convert\n",
            "  Downloading https://files.pythonhosted.org/packages/43/90/37ff1b9f553583e60c327e1ea8cbfea469c38c9d8791ad1f7ee6d3482efa/ipynb-py-convert-0.4.6.tar.gz\n",
            "Collecting mss\n",
            "\u001b[?25l  Downloading https://files.pythonhosted.org/packages/d7/5f/77dece686b8d08a17430e169e936722693712b8cf1ee638caa8b1cb6452b/mss-6.1.0-py3-none-any.whl (76kB)\n",
            "\u001b[K     |████████████████████████████████| 81kB 3.8MB/s \n",
            "\u001b[?25hCollecting voila\n",
            "\u001b[?25l  Downloading https://files.pythonhosted.org/packages/5d/35/cf7d765edd2b48838ac69ff0435cec594bdd8a44329fb21a86a6d7e4c584/voila-0.2.10-py3-none-any.whl (1.6MB)\n",
            "\u001b[K     |████████████████████████████████| 1.6MB 5.1MB/s \n",
            "\u001b[?25hCollecting geeadd>=0.5.1\n",
            "  Downloading https://files.pythonhosted.org/packages/32/9c/78eaf7727591ce5fb6f307bc98e22cf7bc0e9c08542653930c3ec7f8f464/geeadd-0.5.4-py3-none-any.whl\n",
            "Requirement already satisfied: pandas in /usr/local/lib/python3.7/dist-packages (from geemap) (1.1.5)\n",
            "Collecting pycrs\n",
            "  Downloading https://files.pythonhosted.org/packages/50/0b/33c6ab39701d982eabfdc732d920862d79d7598893c7291c5f6ec1e66d3c/PyCRS-1.0.2.tar.gz\n",
            "Collecting pyshp>=2.1.3\n",
            "\u001b[?25l  Downloading https://files.pythonhosted.org/packages/38/85/fbf87e7aa55103e0d06af756bdbc15cf821fa580414c23142d60a35d4f85/pyshp-2.1.3.tar.gz (219kB)\n",
            "\u001b[K     |████████████████████████████████| 225kB 10.0MB/s \n",
            "\u001b[?25hCollecting folium>=0.11.0\n",
            "\u001b[?25l  Downloading https://files.pythonhosted.org/packages/c3/83/e8cb37afc2f016a1cf4caab8d22caf7fe4156c4c15230d8abc9c83547e0c/folium-0.12.1-py2.py3-none-any.whl (94kB)\n",
            "\u001b[K     |████████████████████████████████| 102kB 6.2MB/s \n",
            "\u001b[?25hRequirement already satisfied: click in /usr/local/lib/python3.7/dist-packages (from geemap) (7.1.2)\n",
            "Collecting ipytree\n",
            "\u001b[?25l  Downloading https://files.pythonhosted.org/packages/57/a3/67e37560306b4bb72d6d91cca980e972e324357ae50e8a77519bebbc03ea/ipytree-0.2.1-py2.py3-none-any.whl (1.3MB)\n",
            "\u001b[K     |████████████████████████████████| 1.3MB 11.3MB/s \n",
            "\u001b[?25hRequirement already satisfied: earthengine-api>=0.1.230 in /usr/local/lib/python3.7/dist-packages (from geemap) (0.1.260)\n",
            "Collecting colour\n",
            "  Downloading https://files.pythonhosted.org/packages/74/46/e81907704ab203206769dee1385dc77e1407576ff8f50a0681d0a6b541be/colour-0.1.5-py2.py3-none-any.whl\n",
            "Collecting geocoder\n",
            "\u001b[?25l  Downloading https://files.pythonhosted.org/packages/4f/6b/13166c909ad2f2d76b929a4227c952630ebaf0d729f6317eb09cbceccbab/geocoder-1.38.1-py2.py3-none-any.whl (98kB)\n",
            "\u001b[K     |████████████████████████████████| 102kB 7.6MB/s \n",
            "\u001b[?25hCollecting python-box\n",
            "  Downloading https://files.pythonhosted.org/packages/ae/55/b81be1c1456d93db93905b364d19cac5dde22fb8f442b42d41087c2fe28f/python_box-5.3.0-py3-none-any.whl\n",
            "Requirement already satisfied: numpy in /usr/local/lib/python3.7/dist-packages (from geemap) (1.19.5)\n",
            "Collecting bqplot\n",
            "\u001b[?25l  Downloading https://files.pythonhosted.org/packages/3e/d8/d4243c9c564812b8b0b32cab39f5c5a29ae5b873c417e2153cba79c53c1c/bqplot-0.12.26-py2.py3-none-any.whl (1.2MB)\n",
            "\u001b[K     |████████████████████████████████| 1.2MB 18.5MB/s \n",
            "\u001b[?25hCollecting whiteboxgui\n",
            "  Downloading https://files.pythonhosted.org/packages/3e/9d/71e9192f4c748b29efe8beecd5a88300a654e2a87b856c7a3bb91fdbe606/whiteboxgui-0.1.9-py2.py3-none-any.whl\n",
            "Requirement already satisfied: googledrivedownloader in /usr/local/lib/python3.7/dist-packages (from geemap) (0.4)\n",
            "Requirement already satisfied: matplotlib in /usr/local/lib/python3.7/dist-packages (from geemap) (3.2.2)\n",
            "Collecting ipyleaflet<=0.13.3\n",
            "\u001b[?25l  Downloading https://files.pythonhosted.org/packages/a0/9d/f411b8a9522f1710f278c60b2cd8d26817d8c64b7568de95f9437db6caf0/ipyleaflet-0.13.3-py2.py3-none-any.whl (5.1MB)\n",
            "\u001b[K     |████████████████████████████████| 5.1MB 24.0MB/s \n",
            "\u001b[?25hCollecting ipyevents\n",
            "\u001b[?25l  Downloading https://files.pythonhosted.org/packages/ba/b5/b5861db870aa465be738996da9833fdf39e395b9aa0802ed2fc347297ae8/ipyevents-0.8.2-py2.py3-none-any.whl (133kB)\n",
            "\u001b[K     |████████████████████████████████| 143kB 49.9MB/s \n",
            "\u001b[?25hRequirement already satisfied: pillow in /usr/local/lib/python3.7/dist-packages (from geemap) (7.1.2)\n",
            "Collecting ipyfilechooser\n",
            "  Downloading https://files.pythonhosted.org/packages/5b/4a/f117ea1d1fd5f4c488295a1af5d69a6fa59f676e3cfd4a427f6d52aa6294/ipyfilechooser-0.4.3-py3-none-any.whl\n",
            "Requirement already satisfied: future in /usr/local/lib/python3.7/dist-packages (from ffmpeg-python->geemap) (0.16.0)\n",
            "Collecting nbconvert<7,>=6.0.0\n",
            "\u001b[?25l  Downloading https://files.pythonhosted.org/packages/13/2f/acbe7006548f3914456ee47f97a2033b1b2f3daf921b12ac94105d87c163/nbconvert-6.0.7-py3-none-any.whl (552kB)\n",
            "\u001b[K     |████████████████████████████████| 552kB 33.0MB/s \n",
            "\u001b[?25hCollecting jupyter-server<2.0.0,>=0.3.0\n",
            "\u001b[?25l  Downloading https://files.pythonhosted.org/packages/ae/af/9181eb8e3759d04f591e4640c53fa276a5b630ad0c85e3b49fbd7c70579d/jupyter_server-1.6.4-py3-none-any.whl (377kB)\n",
            "\u001b[K     |████████████████████████████████| 378kB 51.1MB/s \n",
            "\u001b[?25hCollecting jupyter-client<7,>=6.1.3\n",
            "\u001b[?25l  Downloading https://files.pythonhosted.org/packages/77/e8/c3cf72a32a697256608d5fa96360c431adec6e1c6709ba7f13f99ff5ee04/jupyter_client-6.1.12-py3-none-any.whl (112kB)\n",
            "\u001b[K     |████████████████████████████████| 122kB 43.5MB/s \n",
            "\u001b[?25hRequirement already satisfied: nbclient<0.6,>=0.4.0 in /usr/local/lib/python3.7/dist-packages (from voila->geemap) (0.5.3)\n",
            "Collecting beautifulsoup4>=4.9.0\n",
            "\u001b[?25l  Downloading https://files.pythonhosted.org/packages/d1/41/e6495bd7d3781cee623ce23ea6ac73282a373088fcd0ddc809a047b18eae/beautifulsoup4-4.9.3-py3-none-any.whl (115kB)\n",
            "\u001b[K     |████████████████████████████████| 122kB 47.0MB/s \n",
            "\u001b[?25hRequirement already satisfied: requests>=2.22.0 in /usr/local/lib/python3.7/dist-packages (from geeadd>=0.5.1->geemap) (2.23.0)\n",
            "Collecting logzero>=1.5.0\n",
            "  Downloading https://files.pythonhosted.org/packages/b3/68/aa714515d65090fcbcc9a1f3debd5a644b14aad11e59238f42f00bd4b298/logzero-1.7.0-py2.py3-none-any.whl\n",
            "Requirement already satisfied: python-dateutil>=2.7.3 in /usr/local/lib/python3.7/dist-packages (from pandas->geemap) (2.8.1)\n",
            "Requirement already satisfied: pytz>=2017.2 in /usr/local/lib/python3.7/dist-packages (from pandas->geemap) (2018.9)\n",
            "Requirement already satisfied: jinja2>=2.9 in /usr/local/lib/python3.7/dist-packages (from folium>=0.11.0->geemap) (2.11.3)\n",
            "Requirement already satisfied: branca>=0.3.0 in /usr/local/lib/python3.7/dist-packages (from folium>=0.11.0->geemap) (0.4.2)\n",
            "Requirement already satisfied: ipywidgets<8,>=7.5.0 in /usr/local/lib/python3.7/dist-packages (from ipytree->geemap) (7.6.3)\n",
            "Requirement already satisfied: six in /usr/local/lib/python3.7/dist-packages (from earthengine-api>=0.1.230->geemap) (1.15.0)\n",
            "Requirement already satisfied: google-cloud-storage in /usr/local/lib/python3.7/dist-packages (from earthengine-api>=0.1.230->geemap) (1.18.1)\n",
            "Requirement already satisfied: google-auth-httplib2>=0.0.3 in /usr/local/lib/python3.7/dist-packages (from earthengine-api>=0.1.230->geemap) (0.0.4)\n",
            "Requirement already satisfied: google-auth>=1.4.1 in /usr/local/lib/python3.7/dist-packages (from earthengine-api>=0.1.230->geemap) (1.28.1)\n",
            "Requirement already satisfied: google-api-python-client<2,>=1.12.1 in /usr/local/lib/python3.7/dist-packages (from earthengine-api>=0.1.230->geemap) (1.12.8)\n",
            "Requirement already satisfied: httplib2shim in /usr/local/lib/python3.7/dist-packages (from earthengine-api>=0.1.230->geemap) (0.0.3)\n",
            "Requirement already satisfied: httplib2<1dev,>=0.9.2 in /usr/local/lib/python3.7/dist-packages (from earthengine-api>=0.1.230->geemap) (0.17.4)\n",
            "Collecting ratelim\n",
            "  Downloading https://files.pythonhosted.org/packages/f2/98/7e6d147fd16a10a5f821db6e25f192265d6ecca3d82957a4fdd592cad49c/ratelim-0.1.6-py2.py3-none-any.whl\n",
            "Requirement already satisfied: traitlets>=4.3.0 in /usr/local/lib/python3.7/dist-packages (from bqplot->geemap) (5.0.5)\n",
            "Collecting traittypes>=0.0.6\n",
            "  Downloading https://files.pythonhosted.org/packages/9c/d1/8d5bd662703cc1764d986f6908a608777305946fa634d34c470cd4a1e729/traittypes-0.2.1-py2.py3-none-any.whl\n",
            "Collecting whitebox\n",
            "\u001b[?25l  Downloading https://files.pythonhosted.org/packages/67/c7/1487e5f98f3528d56a29bdd44601b3b65c24022680eca10c9bfc7b64237d/whitebox-1.4.1-py2.py3-none-any.whl (63kB)\n",
            "\u001b[K     |████████████████████████████████| 71kB 6.6MB/s \n",
            "\u001b[?25hRequirement already satisfied: pyparsing!=2.0.4,!=2.1.2,!=2.1.6,>=2.0.1 in /usr/local/lib/python3.7/dist-packages (from matplotlib->geemap) (2.4.7)\n",
            "Requirement already satisfied: cycler>=0.10 in /usr/local/lib/python3.7/dist-packages (from matplotlib->geemap) (0.10.0)\n",
            "Requirement already satisfied: kiwisolver>=1.0.1 in /usr/local/lib/python3.7/dist-packages (from matplotlib->geemap) (1.3.1)\n",
            "Requirement already satisfied: pandocfilters>=1.4.1 in /usr/local/lib/python3.7/dist-packages (from nbconvert<7,>=6.0.0->voila->geemap) (1.4.3)\n",
            "Requirement already satisfied: pygments>=2.4.1 in /usr/local/lib/python3.7/dist-packages (from nbconvert<7,>=6.0.0->voila->geemap) (2.6.1)\n",
            "Requirement already satisfied: jupyter-core in /usr/local/lib/python3.7/dist-packages (from nbconvert<7,>=6.0.0->voila->geemap) (4.7.1)\n",
            "Requirement already satisfied: defusedxml in /usr/local/lib/python3.7/dist-packages (from nbconvert<7,>=6.0.0->voila->geemap) (0.7.1)\n",
            "Requirement already satisfied: bleach in /usr/local/lib/python3.7/dist-packages (from nbconvert<7,>=6.0.0->voila->geemap) (3.3.0)\n",
            "Requirement already satisfied: nbformat>=4.4 in /usr/local/lib/python3.7/dist-packages (from nbconvert<7,>=6.0.0->voila->geemap) (5.1.3)\n",
            "Requirement already satisfied: entrypoints>=0.2.2 in /usr/local/lib/python3.7/dist-packages (from nbconvert<7,>=6.0.0->voila->geemap) (0.3)\n",
            "Requirement already satisfied: jupyterlab-pygments in /usr/local/lib/python3.7/dist-packages (from nbconvert<7,>=6.0.0->voila->geemap) (0.1.2)\n",
            "Requirement already satisfied: testpath in /usr/local/lib/python3.7/dist-packages (from nbconvert<7,>=6.0.0->voila->geemap) (0.4.4)\n",
            "Requirement already satisfied: mistune<2,>=0.8.1 in /usr/local/lib/python3.7/dist-packages (from nbconvert<7,>=6.0.0->voila->geemap) (0.8.4)\n",
            "Collecting anyio<3,>=2.0.2\n",
            "\u001b[?25l  Downloading https://files.pythonhosted.org/packages/49/c3/b83a3c02c7d6f66932e9a72621d7f207cbfd2bd72b4c8931567ee386fb55/anyio-2.2.0-py3-none-any.whl (65kB)\n",
            "\u001b[K     |████████████████████████████████| 71kB 6.0MB/s \n",
            "\u001b[?25hCollecting tornado>=6.1.0\n",
            "\u001b[?25l  Downloading https://files.pythonhosted.org/packages/91/a8/9c5902233fa3c2e6a889cbd164333ddda5009669f494e3fadbeee2c03af5/tornado-6.1-cp37-cp37m-manylinux2010_x86_64.whl (428kB)\n",
            "\u001b[K     |████████████████████████████████| 430kB 36.3MB/s \n",
            "\u001b[?25hRequirement already satisfied: pyzmq>=17 in /usr/local/lib/python3.7/dist-packages (from jupyter-server<2.0.0,>=0.3.0->voila->geemap) (22.0.3)\n",
            "Requirement already satisfied: ipython-genutils in /usr/local/lib/python3.7/dist-packages (from jupyter-server<2.0.0,>=0.3.0->voila->geemap) (0.2.0)\n",
            "Collecting jupyter-packaging~=0.9\n",
            "  Downloading https://files.pythonhosted.org/packages/be/31/908a0c42d3c449adf97cd8fe8c2f0a5c7bfd8f36548f09b0efb1834fe5ea/jupyter_packaging-0.10.1-py2.py3-none-any.whl\n",
            "Requirement already satisfied: prometheus-client in /usr/local/lib/python3.7/dist-packages (from jupyter-server<2.0.0,>=0.3.0->voila->geemap) (0.10.1)\n",
            "Requirement already satisfied: Send2Trash in /usr/local/lib/python3.7/dist-packages (from jupyter-server<2.0.0,>=0.3.0->voila->geemap) (1.5.0)\n",
            "Requirement already satisfied: argon2-cffi in /usr/local/lib/python3.7/dist-packages (from jupyter-server<2.0.0,>=0.3.0->voila->geemap) (20.1.0)\n",
            "Requirement already satisfied: terminado>=0.8.3 in /usr/local/lib/python3.7/dist-packages (from jupyter-server<2.0.0,>=0.3.0->voila->geemap) (0.9.4)\n",
            "Requirement already satisfied: nest-asyncio in /usr/local/lib/python3.7/dist-packages (from nbclient<0.6,>=0.4.0->voila->geemap) (1.5.1)\n",
            "Requirement already satisfied: async-generator in /usr/local/lib/python3.7/dist-packages (from nbclient<0.6,>=0.4.0->voila->geemap) (1.10)\n",
            "Collecting soupsieve>1.2; python_version >= \"3.0\"\n",
            "  Downloading https://files.pythonhosted.org/packages/36/69/d82d04022f02733bf9a72bc3b96332d360c0c5307096d76f6bb7489f7e57/soupsieve-2.2.1-py3-none-any.whl\n",
            "Requirement already satisfied: certifi>=2017.4.17 in /usr/local/lib/python3.7/dist-packages (from requests>=2.22.0->geeadd>=0.5.1->geemap) (2020.12.5)\n",
            "Requirement already satisfied: idna<3,>=2.5 in /usr/local/lib/python3.7/dist-packages (from requests>=2.22.0->geeadd>=0.5.1->geemap) (2.10)\n",
            "Requirement already satisfied: urllib3!=1.25.0,!=1.25.1,<1.26,>=1.21.1 in /usr/local/lib/python3.7/dist-packages (from requests>=2.22.0->geeadd>=0.5.1->geemap) (1.24.3)\n",
            "Requirement already satisfied: chardet<4,>=3.0.2 in /usr/local/lib/python3.7/dist-packages (from requests>=2.22.0->geeadd>=0.5.1->geemap) (3.0.4)\n",
            "Requirement already satisfied: MarkupSafe>=0.23 in /usr/local/lib/python3.7/dist-packages (from jinja2>=2.9->folium>=0.11.0->geemap) (1.1.1)\n",
            "Requirement already satisfied: ipykernel>=4.5.1 in /usr/local/lib/python3.7/dist-packages (from ipywidgets<8,>=7.5.0->ipytree->geemap) (4.10.1)\n",
            "Requirement already satisfied: widgetsnbextension~=3.5.0 in /usr/local/lib/python3.7/dist-packages (from ipywidgets<8,>=7.5.0->ipytree->geemap) (3.5.1)\n",
            "Requirement already satisfied: jupyterlab-widgets>=1.0.0; python_version >= \"3.6\" in /usr/local/lib/python3.7/dist-packages (from ipywidgets<8,>=7.5.0->ipytree->geemap) (1.0.0)\n",
            "Requirement already satisfied: ipython>=4.0.0; python_version >= \"3.3\" in /usr/local/lib/python3.7/dist-packages (from ipywidgets<8,>=7.5.0->ipytree->geemap) (5.5.0)\n",
            "Requirement already satisfied: google-cloud-core<2.0dev,>=1.0.0 in /usr/local/lib/python3.7/dist-packages (from google-cloud-storage->earthengine-api>=0.1.230->geemap) (1.0.3)\n",
            "Requirement already satisfied: google-resumable-media<0.5.0dev,>=0.3.1 in /usr/local/lib/python3.7/dist-packages (from google-cloud-storage->earthengine-api>=0.1.230->geemap) (0.4.1)\n",
            "Requirement already satisfied: rsa<5,>=3.1.4; python_version >= \"3.6\" in /usr/local/lib/python3.7/dist-packages (from google-auth>=1.4.1->earthengine-api>=0.1.230->geemap) (4.7.2)\n",
            "Requirement already satisfied: pyasn1-modules>=0.2.1 in /usr/local/lib/python3.7/dist-packages (from google-auth>=1.4.1->earthengine-api>=0.1.230->geemap) (0.2.8)\n",
            "Requirement already satisfied: cachetools<5.0,>=2.0.0 in /usr/local/lib/python3.7/dist-packages (from google-auth>=1.4.1->earthengine-api>=0.1.230->geemap) (4.2.1)\n",
            "Requirement already satisfied: setuptools>=40.3.0 in /usr/local/lib/python3.7/dist-packages (from google-auth>=1.4.1->earthengine-api>=0.1.230->geemap) (56.1.0)\n",
            "Requirement already satisfied: google-api-core<2dev,>=1.21.0 in /usr/local/lib/python3.7/dist-packages (from google-api-python-client<2,>=1.12.1->earthengine-api>=0.1.230->geemap) (1.26.3)\n",
            "Requirement already satisfied: uritemplate<4dev,>=3.0.0 in /usr/local/lib/python3.7/dist-packages (from google-api-python-client<2,>=1.12.1->earthengine-api>=0.1.230->geemap) (3.0.1)\n",
            "Requirement already satisfied: decorator in /usr/local/lib/python3.7/dist-packages (from ratelim->geocoder->geemap) (4.4.2)\n",
            "Requirement already satisfied: webencodings in /usr/local/lib/python3.7/dist-packages (from bleach->nbconvert<7,>=6.0.0->voila->geemap) (0.5.1)\n",
            "Requirement already satisfied: packaging in /usr/local/lib/python3.7/dist-packages (from bleach->nbconvert<7,>=6.0.0->voila->geemap) (20.9)\n",
            "Requirement already satisfied: jsonschema!=2.5.0,>=2.4 in /usr/local/lib/python3.7/dist-packages (from nbformat>=4.4->nbconvert<7,>=6.0.0->voila->geemap) (2.6.0)\n",
            "Collecting sniffio>=1.1\n",
            "  Downloading https://files.pythonhosted.org/packages/52/b0/7b2e028b63d092804b6794595871f936aafa5e9322dcaaad50ebf67445b3/sniffio-1.2.0-py3-none-any.whl\n",
            "Requirement already satisfied: typing-extensions; python_version < \"3.8\" in /usr/local/lib/python3.7/dist-packages (from anyio<3,>=2.0.2->jupyter-server<2.0.0,>=0.3.0->voila->geemap) (3.7.4.3)\n",
            "Collecting deprecation\n",
            "  Downloading https://files.pythonhosted.org/packages/02/c3/253a89ee03fc9b9682f1541728eb66db7db22148cd94f89ab22528cd1e1b/deprecation-2.1.0-py2.py3-none-any.whl\n",
            "Requirement already satisfied: wheel in /usr/local/lib/python3.7/dist-packages (from jupyter-packaging~=0.9->jupyter-server<2.0.0,>=0.3.0->voila->geemap) (0.36.2)\n",
            "Collecting tomlkit\n",
            "  Downloading https://files.pythonhosted.org/packages/bc/01/a0ee34fe37dd54f795e8f8a820af57c9a94d7358276acf6cdc21ae8d9533/tomlkit-0.7.0-py2.py3-none-any.whl\n",
            "Requirement already satisfied: cffi>=1.0.0 in /usr/local/lib/python3.7/dist-packages (from argon2-cffi->jupyter-server<2.0.0,>=0.3.0->voila->geemap) (1.14.5)\n",
            "Requirement already satisfied: ptyprocess; os_name != \"nt\" in /usr/local/lib/python3.7/dist-packages (from terminado>=0.8.3->jupyter-server<2.0.0,>=0.3.0->voila->geemap) (0.7.0)\n",
            "Requirement already satisfied: notebook>=4.4.1 in /usr/local/lib/python3.7/dist-packages (from widgetsnbextension~=3.5.0->ipywidgets<8,>=7.5.0->ipytree->geemap) (5.3.1)\n",
            "Requirement already satisfied: simplegeneric>0.8 in /usr/local/lib/python3.7/dist-packages (from ipython>=4.0.0; python_version >= \"3.3\"->ipywidgets<8,>=7.5.0->ipytree->geemap) (0.8.1)\n",
            "Requirement already satisfied: pexpect; sys_platform != \"win32\" in /usr/local/lib/python3.7/dist-packages (from ipython>=4.0.0; python_version >= \"3.3\"->ipywidgets<8,>=7.5.0->ipytree->geemap) (4.8.0)\n",
            "Requirement already satisfied: prompt-toolkit<2.0.0,>=1.0.4 in /usr/local/lib/python3.7/dist-packages (from ipython>=4.0.0; python_version >= \"3.3\"->ipywidgets<8,>=7.5.0->ipytree->geemap) (1.0.18)\n",
            "Requirement already satisfied: pickleshare in /usr/local/lib/python3.7/dist-packages (from ipython>=4.0.0; python_version >= \"3.3\"->ipywidgets<8,>=7.5.0->ipytree->geemap) (0.7.5)\n",
            "Requirement already satisfied: pyasn1>=0.1.3 in /usr/local/lib/python3.7/dist-packages (from rsa<5,>=3.1.4; python_version >= \"3.6\"->google-auth>=1.4.1->earthengine-api>=0.1.230->geemap) (0.4.8)\n",
            "Requirement already satisfied: protobuf>=3.12.0 in /usr/local/lib/python3.7/dist-packages (from google-api-core<2dev,>=1.21.0->google-api-python-client<2,>=1.12.1->earthengine-api>=0.1.230->geemap) (3.12.4)\n",
            "Requirement already satisfied: googleapis-common-protos<2.0dev,>=1.6.0 in /usr/local/lib/python3.7/dist-packages (from google-api-core<2dev,>=1.21.0->google-api-python-client<2,>=1.12.1->earthengine-api>=0.1.230->geemap) (1.53.0)\n",
            "Requirement already satisfied: pycparser in /usr/local/lib/python3.7/dist-packages (from cffi>=1.0.0->argon2-cffi->jupyter-server<2.0.0,>=0.3.0->voila->geemap) (2.20)\n",
            "Requirement already satisfied: wcwidth in /usr/local/lib/python3.7/dist-packages (from prompt-toolkit<2.0.0,>=1.0.4->ipython>=4.0.0; python_version >= \"3.3\"->ipywidgets<8,>=7.5.0->ipytree->geemap) (0.2.5)\n",
            "Building wheels for collected packages: ipynb-py-convert, pycrs, pyshp\n",
            "  Building wheel for ipynb-py-convert (setup.py) ... \u001b[?25l\u001b[?25hdone\n",
            "  Created wheel for ipynb-py-convert: filename=ipynb_py_convert-0.4.6-cp37-none-any.whl size=4624 sha256=37ba07edd3b93723ef8b7bceb201e7e4a9ca7e1257cae7bf6102c05b0b2b7c5f\n",
            "  Stored in directory: /root/.cache/pip/wheels/80/dc/7c/a7279f7726d66951fe48d5afd45247bcf5bf92c98282e4e78e\n",
            "  Building wheel for pycrs (setup.py) ... \u001b[?25l\u001b[?25hdone\n",
            "  Created wheel for pycrs: filename=PyCRS-1.0.2-cp37-none-any.whl size=32683 sha256=be8666ecad66ec4d95f6b64a3a5454d1a5daae83b05d3613f52a0dce1e39d776\n",
            "  Stored in directory: /root/.cache/pip/wheels/1a/c9/56/648f762bd41fdb03454be51b8a7069795925168833cb61f316\n",
            "  Building wheel for pyshp (setup.py) ... \u001b[?25l\u001b[?25hdone\n",
            "  Created wheel for pyshp: filename=pyshp-2.1.3-cp37-none-any.whl size=37264 sha256=5202569a1fe9388a1ef8fe2ed784588aae5f5d0ce526396eee5bca8cae8453ac\n",
            "  Stored in directory: /root/.cache/pip/wheels/76/2b/d4/53e6b9a0fb0a9f9f29664cf82605af8bc81d5ab44d987896dd\n",
            "Successfully built ipynb-py-convert pycrs pyshp\n",
            "\u001b[31mERROR: google-colab 1.0.0 has requirement tornado~=5.1.0; python_version >= \"3.0\", but you'll have tornado 6.1 which is incompatible.\u001b[0m\n",
            "\u001b[31mERROR: datascience 0.10.6 has requirement folium==0.2.1, but you'll have folium 0.12.1 which is incompatible.\u001b[0m\n",
            "Installing collected packages: ffmpeg-python, ipynb-py-convert, mss, nbconvert, sniffio, anyio, tornado, deprecation, tomlkit, jupyter-packaging, jupyter-client, jupyter-server, voila, soupsieve, beautifulsoup4, logzero, geeadd, pycrs, pyshp, folium, ipytree, colour, ratelim, geocoder, python-box, traittypes, bqplot, whitebox, ipyfilechooser, whiteboxgui, ipyleaflet, ipyevents, geemap\n",
            "  Found existing installation: nbconvert 5.6.1\n",
            "    Uninstalling nbconvert-5.6.1:\n",
            "      Successfully uninstalled nbconvert-5.6.1\n",
            "  Found existing installation: tornado 5.1.1\n",
            "    Uninstalling tornado-5.1.1:\n",
            "      Successfully uninstalled tornado-5.1.1\n",
            "  Found existing installation: jupyter-client 5.3.5\n",
            "    Uninstalling jupyter-client-5.3.5:\n",
            "      Successfully uninstalled jupyter-client-5.3.5\n",
            "  Found existing installation: beautifulsoup4 4.6.3\n",
            "    Uninstalling beautifulsoup4-4.6.3:\n",
            "      Successfully uninstalled beautifulsoup4-4.6.3\n",
            "  Found existing installation: folium 0.8.3\n",
            "    Uninstalling folium-0.8.3:\n",
            "      Successfully uninstalled folium-0.8.3\n",
            "Successfully installed anyio-2.2.0 beautifulsoup4-4.9.3 bqplot-0.12.26 colour-0.1.5 deprecation-2.1.0 ffmpeg-python-0.2.0 folium-0.12.1 geeadd-0.5.4 geemap-0.8.15 geocoder-1.38.1 ipyevents-0.8.2 ipyfilechooser-0.4.3 ipyleaflet-0.13.3 ipynb-py-convert-0.4.6 ipytree-0.2.1 jupyter-client-6.1.12 jupyter-packaging-0.10.1 jupyter-server-1.6.4 logzero-1.7.0 mss-6.1.0 nbconvert-6.0.7 pycrs-1.0.2 pyshp-2.1.3 python-box-5.3.0 ratelim-0.1.6 sniffio-1.2.0 soupsieve-2.2.1 tomlkit-0.7.0 tornado-6.1 traittypes-0.2.1 voila-0.2.10 whitebox-1.4.1 whiteboxgui-0.1.9\n"
          ],
          "name": "stdout"
        },
        {
          "output_type": "display_data",
          "data": {
            "application/vnd.colab-display-data+json": {
              "pip_warning": {
                "packages": [
                  "jupyter_client",
                  "tornado"
                ]
              }
            }
          },
          "metadata": {
            "tags": []
          }
        }
      ]
    },
    {
      "cell_type": "code",
      "metadata": {
        "id": "4VJgu5B7sMFx"
      },
      "source": [
        "import ee\n",
        "import geemap\n",
        "import os"
      ],
      "execution_count": null,
      "outputs": []
    },
    {
      "cell_type": "code",
      "metadata": {
        "colab": {
          "base_uri": "https://localhost:8080/",
          "height": 919
        },
        "id": "Bo38ZqdRt36S",
        "outputId": "2a4d83e0-d8b1-4059-9736-6999e8b15bf8"
      },
      "source": [
        "Map = geemap.Map()\n",
        "Map"
      ],
      "execution_count": null,
      "outputs": [
        {
          "output_type": "stream",
          "text": [
            "To authorize access needed by Earth Engine, open the following URL in a web browser and follow the instructions. If the web browser does not start automatically, please manually browse the URL below.\n",
            "\n",
            "    https://accounts.google.com/o/oauth2/auth?client_id=517222506229-vsmmajv00ul0bs7p89v5m89qs8eb9359.apps.googleusercontent.com&scope=https%3A%2F%2Fwww.googleapis.com%2Fauth%2Fearthengine+https%3A%2F%2Fwww.googleapis.com%2Fauth%2Fdevstorage.full_control&redirect_uri=urn%3Aietf%3Awg%3Aoauth%3A2.0%3Aoob&response_type=code&code_challenge=ta5Eq2533mlv1oC5X6CtnjoqGO5wOH5jbZWUEglwdtw&code_challenge_method=S256\n",
            "\n",
            "The authorization workflow will generate a code, which you should paste in the box below. \n",
            "Enter verification code: 4/1AY0e-g5SnYam66zoFK2jzqRvZh1jvVuLTRsx4mleUALVcoDhvCJSJGGDNcc\n",
            "\n",
            "Successfully saved authorization token.\n"
          ],
          "name": "stdout"
        },
        {
          "output_type": "execute_result",
          "data": {
            "text/html": [
              "<div style=\"width:100%;\"><div style=\"position:relative;width:100%;height:0;padding-bottom:60%;\"><span style=\"color:#565656\">Make this Notebook Trusted to load map: File -> Trust Notebook</span><iframe src=\"about:blank\" style=\"position:absolute;width:100%;height:100%;left:0;top:0;border:none !important;\" data-html=%3C%21DOCTYPE%20html%3E%0A%3Chead%3E%20%20%20%20%0A%20%20%20%20%3Cmeta%20http-equiv%3D%22content-type%22%20content%3D%22text/html%3B%20charset%3DUTF-8%22%20/%3E%0A%20%20%20%20%0A%20%20%20%20%20%20%20%20%3Cscript%3E%0A%20%20%20%20%20%20%20%20%20%20%20%20L_NO_TOUCH%20%3D%20false%3B%0A%20%20%20%20%20%20%20%20%20%20%20%20L_DISABLE_3D%20%3D%20false%3B%0A%20%20%20%20%20%20%20%20%3C/script%3E%0A%20%20%20%20%0A%20%20%20%20%3Cstyle%3Ehtml%2C%20body%20%7Bwidth%3A%20100%25%3Bheight%3A%20100%25%3Bmargin%3A%200%3Bpadding%3A%200%3B%7D%3C/style%3E%0A%20%20%20%20%3Cstyle%3E%23map%20%7Bposition%3Aabsolute%3Btop%3A0%3Bbottom%3A0%3Bright%3A0%3Bleft%3A0%3B%7D%3C/style%3E%0A%20%20%20%20%3Cscript%20src%3D%22https%3A//cdn.jsdelivr.net/npm/leaflet%401.6.0/dist/leaflet.js%22%3E%3C/script%3E%0A%20%20%20%20%3Cscript%20src%3D%22https%3A//code.jquery.com/jquery-1.12.4.min.js%22%3E%3C/script%3E%0A%20%20%20%20%3Cscript%20src%3D%22https%3A//maxcdn.bootstrapcdn.com/bootstrap/3.2.0/js/bootstrap.min.js%22%3E%3C/script%3E%0A%20%20%20%20%3Cscript%20src%3D%22https%3A//cdnjs.cloudflare.com/ajax/libs/Leaflet.awesome-markers/2.0.2/leaflet.awesome-markers.js%22%3E%3C/script%3E%0A%20%20%20%20%3Clink%20rel%3D%22stylesheet%22%20href%3D%22https%3A//cdn.jsdelivr.net/npm/leaflet%401.6.0/dist/leaflet.css%22/%3E%0A%20%20%20%20%3Clink%20rel%3D%22stylesheet%22%20href%3D%22https%3A//maxcdn.bootstrapcdn.com/bootstrap/3.2.0/css/bootstrap.min.css%22/%3E%0A%20%20%20%20%3Clink%20rel%3D%22stylesheet%22%20href%3D%22https%3A//maxcdn.bootstrapcdn.com/bootstrap/3.2.0/css/bootstrap-theme.min.css%22/%3E%0A%20%20%20%20%3Clink%20rel%3D%22stylesheet%22%20href%3D%22https%3A//maxcdn.bootstrapcdn.com/font-awesome/4.6.3/css/font-awesome.min.css%22/%3E%0A%20%20%20%20%3Clink%20rel%3D%22stylesheet%22%20href%3D%22https%3A//cdnjs.cloudflare.com/ajax/libs/Leaflet.awesome-markers/2.0.2/leaflet.awesome-markers.css%22/%3E%0A%20%20%20%20%3Clink%20rel%3D%22stylesheet%22%20href%3D%22https%3A//cdn.jsdelivr.net/gh/python-visualization/folium/folium/templates/leaflet.awesome.rotate.min.css%22/%3E%0A%20%20%20%20%0A%20%20%20%20%20%20%20%20%20%20%20%20%3Cmeta%20name%3D%22viewport%22%20content%3D%22width%3Ddevice-width%2C%0A%20%20%20%20%20%20%20%20%20%20%20%20%20%20%20%20initial-scale%3D1.0%2C%20maximum-scale%3D1.0%2C%20user-scalable%3Dno%22%20/%3E%0A%20%20%20%20%20%20%20%20%20%20%20%20%3Cstyle%3E%0A%20%20%20%20%20%20%20%20%20%20%20%20%20%20%20%20%23map_709652b9fdaa42f8b83611608d43425e%20%7B%0A%20%20%20%20%20%20%20%20%20%20%20%20%20%20%20%20%20%20%20%20position%3A%20relative%3B%0A%20%20%20%20%20%20%20%20%20%20%20%20%20%20%20%20%20%20%20%20width%3A%20100.0%25%3B%0A%20%20%20%20%20%20%20%20%20%20%20%20%20%20%20%20%20%20%20%20height%3A%20100.0%25%3B%0A%20%20%20%20%20%20%20%20%20%20%20%20%20%20%20%20%20%20%20%20left%3A%200.0%25%3B%0A%20%20%20%20%20%20%20%20%20%20%20%20%20%20%20%20%20%20%20%20top%3A%200.0%25%3B%0A%20%20%20%20%20%20%20%20%20%20%20%20%20%20%20%20%7D%0A%20%20%20%20%20%20%20%20%20%20%20%20%3C/style%3E%0A%20%20%20%20%20%20%20%20%0A%20%20%20%20%3Cscript%20src%3D%22https%3A//cdnjs.cloudflare.com/ajax/libs/leaflet.fullscreen/1.4.2/Control.FullScreen.min.js%22%3E%3C/script%3E%0A%20%20%20%20%3Clink%20rel%3D%22stylesheet%22%20href%3D%22https%3A//cdnjs.cloudflare.com/ajax/libs/leaflet.fullscreen/1.4.2/Control.FullScreen.min.css%22/%3E%0A%3C/head%3E%0A%3Cbody%3E%20%20%20%20%0A%20%20%20%20%0A%20%20%20%20%20%20%20%20%20%20%20%20%3Cdiv%20class%3D%22folium-map%22%20id%3D%22map_709652b9fdaa42f8b83611608d43425e%22%20%3E%3C/div%3E%0A%20%20%20%20%20%20%20%20%0A%3C/body%3E%0A%3Cscript%3E%20%20%20%20%0A%20%20%20%20%0A%20%20%20%20%20%20%20%20%20%20%20%20var%20map_709652b9fdaa42f8b83611608d43425e%20%3D%20L.map%28%0A%20%20%20%20%20%20%20%20%20%20%20%20%20%20%20%20%22map_709652b9fdaa42f8b83611608d43425e%22%2C%0A%20%20%20%20%20%20%20%20%20%20%20%20%20%20%20%20%7B%0A%20%20%20%20%20%20%20%20%20%20%20%20%20%20%20%20%20%20%20%20center%3A%20%5B40.0%2C%20-100.0%5D%2C%0A%20%20%20%20%20%20%20%20%20%20%20%20%20%20%20%20%20%20%20%20crs%3A%20L.CRS.EPSG3857%2C%0A%20%20%20%20%20%20%20%20%20%20%20%20%20%20%20%20%20%20%20%20zoom%3A%204%2C%0A%20%20%20%20%20%20%20%20%20%20%20%20%20%20%20%20%20%20%20%20zoomControl%3A%20true%2C%0A%20%20%20%20%20%20%20%20%20%20%20%20%20%20%20%20%20%20%20%20preferCanvas%3A%20false%2C%0A%20%20%20%20%20%20%20%20%20%20%20%20%20%20%20%20%20%20%20%20eeInitialize%3A%20true%2C%0A%20%20%20%20%20%20%20%20%20%20%20%20%20%20%20%20%20%20%20%20addGoogleMap%3A%20true%2C%0A%20%20%20%20%20%20%20%20%20%20%20%20%20%20%20%20%20%20%20%20pluginLatlngpopup%3A%20true%2C%0A%20%20%20%20%20%20%20%20%20%20%20%20%20%20%20%20%20%20%20%20pluginFullscreen%3A%20true%2C%0A%20%20%20%20%20%20%20%20%20%20%20%20%20%20%20%20%20%20%20%20pluginDraw%3A%20false%2C%0A%20%20%20%20%20%20%20%20%20%20%20%20%20%20%20%20%20%20%20%20DrawExport%3A%20true%2C%0A%20%20%20%20%20%20%20%20%20%20%20%20%20%20%20%20%20%20%20%20pluginMinimap%3A%20false%2C%0A%20%20%20%20%20%20%20%20%20%20%20%20%20%20%20%20%20%20%20%20pluginLayercontrol%3A%20false%2C%0A%20%20%20%20%20%20%20%20%20%20%20%20%20%20%20%20%7D%0A%20%20%20%20%20%20%20%20%20%20%20%20%29%3B%0A%0A%20%20%20%20%20%20%20%20%20%20%20%20%0A%0A%20%20%20%20%20%20%20%20%0A%20%20%20%20%0A%20%20%20%20%20%20%20%20%20%20%20%20var%20tile_layer_d4cd2931a6d047efb1e0fec9026af053%20%3D%20L.tileLayer%28%0A%20%20%20%20%20%20%20%20%20%20%20%20%20%20%20%20%22https%3A//%7Bs%7D.tile.openstreetmap.org/%7Bz%7D/%7Bx%7D/%7By%7D.png%22%2C%0A%20%20%20%20%20%20%20%20%20%20%20%20%20%20%20%20%7B%22attribution%22%3A%20%22Data%20by%20%5Cu0026copy%3B%20%5Cu003ca%20href%3D%5C%22http%3A//openstreetmap.org%5C%22%5Cu003eOpenStreetMap%5Cu003c/a%5Cu003e%2C%20under%20%5Cu003ca%20href%3D%5C%22http%3A//www.openstreetmap.org/copyright%5C%22%5Cu003eODbL%5Cu003c/a%5Cu003e.%22%2C%20%22detectRetina%22%3A%20false%2C%20%22maxNativeZoom%22%3A%2018%2C%20%22maxZoom%22%3A%2018%2C%20%22minZoom%22%3A%200%2C%20%22noWrap%22%3A%20false%2C%20%22opacity%22%3A%201%2C%20%22subdomains%22%3A%20%22abc%22%2C%20%22tms%22%3A%20false%7D%0A%20%20%20%20%20%20%20%20%20%20%20%20%29.addTo%28map_709652b9fdaa42f8b83611608d43425e%29%3B%0A%20%20%20%20%20%20%20%20%0A%20%20%20%20%0A%20%20%20%20%20%20%20%20%20%20%20%20var%20tile_layer_d54f05809b44432a8328fd6aa7baa9d9%20%3D%20L.tileLayer%28%0A%20%20%20%20%20%20%20%20%20%20%20%20%20%20%20%20%22https%3A//mt1.google.com/vt/lyrs%3Dm%5Cu0026x%3D%7Bx%7D%5Cu0026y%3D%7By%7D%5Cu0026z%3D%7Bz%7D%22%2C%0A%20%20%20%20%20%20%20%20%20%20%20%20%20%20%20%20%7B%22attribution%22%3A%20%22Google%22%2C%20%22detectRetina%22%3A%20false%2C%20%22maxNativeZoom%22%3A%2018%2C%20%22maxZoom%22%3A%2018%2C%20%22minZoom%22%3A%200%2C%20%22noWrap%22%3A%20false%2C%20%22opacity%22%3A%201%2C%20%22subdomains%22%3A%20%22abc%22%2C%20%22tms%22%3A%20false%7D%0A%20%20%20%20%20%20%20%20%20%20%20%20%29.addTo%28map_709652b9fdaa42f8b83611608d43425e%29%3B%0A%20%20%20%20%20%20%20%20%0A%20%20%20%20%0A%20%20%20%20%20%20%20%20%20%20%20%20%20%20%20%20var%20lat_lng_popup_cb3dd9d4b9c1481d93f20c0e971ea46a%20%3D%20L.popup%28%29%3B%0A%20%20%20%20%20%20%20%20%20%20%20%20%20%20%20%20function%20latLngPop%28e%29%20%7B%0A%20%20%20%20%20%20%20%20%20%20%20%20%20%20%20%20%20%20%20%20lat_lng_popup_cb3dd9d4b9c1481d93f20c0e971ea46a%0A%20%20%20%20%20%20%20%20%20%20%20%20%20%20%20%20%20%20%20%20%20%20%20%20.setLatLng%28e.latlng%29%0A%20%20%20%20%20%20%20%20%20%20%20%20%20%20%20%20%20%20%20%20%20%20%20%20.setContent%28%22Latitude%3A%20%22%20%2B%20e.latlng.lat.toFixed%284%29%20%2B%0A%20%20%20%20%20%20%20%20%20%20%20%20%20%20%20%20%20%20%20%20%20%20%20%20%20%20%20%20%20%20%20%20%20%20%20%20%22%3Cbr%3ELongitude%3A%20%22%20%2B%20e.latlng.lng.toFixed%284%29%29%0A%20%20%20%20%20%20%20%20%20%20%20%20%20%20%20%20%20%20%20%20%20%20%20%20.openOn%28map_709652b9fdaa42f8b83611608d43425e%29%3B%0A%20%20%20%20%20%20%20%20%20%20%20%20%20%20%20%20%20%20%20%20%7D%0A%20%20%20%20%20%20%20%20%20%20%20%20%20%20%20%20map_709652b9fdaa42f8b83611608d43425e.on%28%27click%27%2C%20latLngPop%29%3B%0A%20%20%20%20%20%20%20%20%20%20%20%20%0A%20%20%20%20%0A%20%20%20%20%20%20%20%20%20%20%20%20L.control.fullscreen%28%0A%20%20%20%20%20%20%20%20%20%20%20%20%20%20%20%20%7B%22forceSeparateButton%22%3A%20false%2C%20%22position%22%3A%20%22topleft%22%2C%20%22title%22%3A%20%22Full%20Screen%22%2C%20%22titleCancel%22%3A%20%22Exit%20Full%20Screen%22%7D%0A%20%20%20%20%20%20%20%20%20%20%20%20%29.addTo%28map_709652b9fdaa42f8b83611608d43425e%29%3B%0A%20%20%20%20%20%20%20%20%0A%20%20%20%20%0A%20%20%20%20%20%20%20%20%20%20%20%20map_709652b9fdaa42f8b83611608d43425e.fitBounds%28%0A%20%20%20%20%20%20%20%20%20%20%20%20%20%20%20%20%5B%5B40%2C%20-100%5D%2C%20%5B40%2C%20-100%5D%5D%2C%0A%20%20%20%20%20%20%20%20%20%20%20%20%20%20%20%20%7B%22maxZoom%22%3A%204%7D%0A%20%20%20%20%20%20%20%20%20%20%20%20%29%3B%0A%20%20%20%20%20%20%20%20%0A%20%20%20%20%0A%20%20%20%20%20%20%20%20%20%20%20%20var%20layer_control_7c76d8ab2a9a4f82a2cc461ad25da7c5%20%3D%20%7B%0A%20%20%20%20%20%20%20%20%20%20%20%20%20%20%20%20base_layers%20%3A%20%7B%0A%20%20%20%20%20%20%20%20%20%20%20%20%20%20%20%20%20%20%20%20%22openstreetmap%22%20%3A%20tile_layer_d4cd2931a6d047efb1e0fec9026af053%2C%0A%20%20%20%20%20%20%20%20%20%20%20%20%20%20%20%20%7D%2C%0A%20%20%20%20%20%20%20%20%20%20%20%20%20%20%20%20overlays%20%3A%20%20%7B%0A%20%20%20%20%20%20%20%20%20%20%20%20%20%20%20%20%20%20%20%20%22Google%20Maps%22%20%3A%20tile_layer_d54f05809b44432a8328fd6aa7baa9d9%2C%0A%20%20%20%20%20%20%20%20%20%20%20%20%20%20%20%20%7D%2C%0A%20%20%20%20%20%20%20%20%20%20%20%20%7D%3B%0A%20%20%20%20%20%20%20%20%20%20%20%20L.control.layers%28%0A%20%20%20%20%20%20%20%20%20%20%20%20%20%20%20%20layer_control_7c76d8ab2a9a4f82a2cc461ad25da7c5.base_layers%2C%0A%20%20%20%20%20%20%20%20%20%20%20%20%20%20%20%20layer_control_7c76d8ab2a9a4f82a2cc461ad25da7c5.overlays%2C%0A%20%20%20%20%20%20%20%20%20%20%20%20%20%20%20%20%7B%22autoZIndex%22%3A%20true%2C%20%22collapsed%22%3A%20true%2C%20%22position%22%3A%20%22topright%22%7D%0A%20%20%20%20%20%20%20%20%20%20%20%20%29.addTo%28map_709652b9fdaa42f8b83611608d43425e%29%3B%0A%20%20%20%20%20%20%20%20%0A%3C/script%3E onload=\"this.contentDocument.open();this.contentDocument.write(    decodeURIComponent(this.getAttribute('data-html')));this.contentDocument.close();\" allowfullscreen webkitallowfullscreen mozallowfullscreen></iframe></div></div>"
            ],
            "text/plain": [
              "<geemap.eefolium.Map at 0x7fc9d7555b50>"
            ]
          },
          "metadata": {
            "tags": []
          },
          "execution_count": 3
        }
      ]
    },
    {
      "cell_type": "code",
      "metadata": {
        "id": "YVYHdU-qB7Sy"
      },
      "source": [
        "#loc1 = ee.Geometry.Polygon([ [75.45157492160797,30.634404129904425],[75.4524278640747,30.63372099804389],\n",
        "#                             [75.45236885547638,30.634399514164798],[75.45157492160797,30.634404129904425] ])\n",
        "#loc2 = ee.Geometry.Polygon([ [85.85590660572052,26.093581136401006],[85.85663080215454,26.09337879451938 ],\n",
        "#                             [85.85686147212981,26.094009907326967],[85.85622847080231,26.09425078918021]  ])\n",
        "#loc3 = ee.Geometry.Polygon([ [78.6662346124649,17.6686911655875],[78.6662346124649,17.66929686130703],\n",
        "#                             [78.66571158170699,17.66929686130703],[78.66571158170699,17.66869116558751]  ])"
      ],
      "execution_count": null,
      "outputs": []
    },
    {
      "cell_type": "code",
      "metadata": {
        "id": "zj5xbPFKsj7R"
      },
      "source": [
        "loc = ee.Geometry.Polygon([\n",
        "                           [[85.85622847080231, 26.09425078918021], [85.85590660572052, 26.093581136401006], \n",
        "                             [85.85663080215454, 26.09337879451938], [85.85686147212981, 26.094009907326967]]\n",
        "                           ])\n",
        "\n",
        "collection = ee.ImageCollection(\"LANDSAT/LC08/C01/T1\") \\\n",
        "    .filterBounds(loc) \\\n",
        "    .filterDate('2020-01-01', '2020-06-30') #\\\n",
        "#    .filter(ee.Filter.metadata_(\"CLOUD_COVER\", \"less_than\", 10))"
      ],
      "execution_count": null,
      "outputs": []
    },
    {
      "cell_type": "code",
      "metadata": {
        "colab": {
          "base_uri": "https://localhost:8080/"
        },
        "id": "Nx8ufjeatqLE",
        "outputId": "9c22e1dd-4ea0-4d70-ff76-c87ab0d2ca65"
      },
      "source": [
        "print(collection.aggregate_array('system:index').getInfo())"
      ],
      "execution_count": null,
      "outputs": [
        {
          "output_type": "stream",
          "text": [
            "['LC08_140042_20200115', 'LC08_140042_20200131', 'LC08_140042_20200216', 'LC08_140042_20200303', 'LC08_140042_20200319', 'LC08_140042_20200404', 'LC08_140042_20200420', 'LC08_140042_20200506', 'LC08_140042_20200607', 'LC08_141042_20200106', 'LC08_141042_20200122', 'LC08_141042_20200207', 'LC08_141042_20200223', 'LC08_141042_20200310', 'LC08_141042_20200326', 'LC08_141042_20200411', 'LC08_141042_20200513', 'LC08_141042_20200529']\n"
          ],
          "name": "stdout"
        }
      ]
    },
    {
      "cell_type": "code",
      "metadata": {
        "colab": {
          "base_uri": "https://localhost:8080/"
        },
        "id": "MR2kPfLV6rdZ",
        "outputId": "b724b515-9987-49a3-a73e-acccb2d46ad5"
      },
      "source": [
        "list = collection.aggregate_array('system:index').getInfo()\n",
        "image_scene = list[0:9]\n",
        "print(image_scene)"
      ],
      "execution_count": null,
      "outputs": [
        {
          "output_type": "stream",
          "text": [
            "['LC08_140042_20200115', 'LC08_140042_20200131', 'LC08_140042_20200216', 'LC08_140042_20200303', 'LC08_140042_20200319', 'LC08_140042_20200404', 'LC08_140042_20200420', 'LC08_140042_20200506', 'LC08_140042_20200607']\n"
          ],
          "name": "stdout"
        }
      ]
    },
    {
      "cell_type": "code",
      "metadata": {
        "id": "T5YCGV9j_KJa",
        "colab": {
          "base_uri": "https://localhost:8080/"
        },
        "outputId": "67239ae2-e49c-4371-88b7-5dbd31204245"
      },
      "source": [
        "import os\n",
        "from google.colab import drive \n",
        "drive.mount('/content/drive')"
      ],
      "execution_count": null,
      "outputs": [
        {
          "output_type": "stream",
          "text": [
            "Mounted at /content/drive\n"
          ],
          "name": "stdout"
        }
      ]
    },
    {
      "cell_type": "code",
      "metadata": {
        "id": "e4Ap1sspuRB6"
      },
      "source": [
        "#%cd /content/drive/My\\ Drive/Colab Notebooks"
      ],
      "execution_count": null,
      "outputs": []
    },
    {
      "cell_type": "code",
      "metadata": {
        "id": "g1mMyl-R7L4D"
      },
      "source": [
        "#for scene in image_scene[0:1]:\n",
        "  #print('LANDSAT/LC08/C01/T1/'+scene)\n",
        " # image = ee.Image('LANDSAT/LC08/C01/T1/'+scene)\n",
        " # Map.addLayer(image, vis_params={'bands': ['B4', 'B3', 'B2']}, name='landsat_geemap', shown=True, opacity=0.7)"
      ],
      "execution_count": null,
      "outputs": []
    },
    {
      "cell_type": "code",
      "metadata": {
        "id": "dnh_xjDYu4aq",
        "colab": {
          "base_uri": "https://localhost:8080/"
        },
        "outputId": "d70081fc-1b4b-4bf1-ef05-808f8f7b4ec4"
      },
      "source": [
        "for scene in image_scene:\n",
        "  data1 = ee.Image('LANDSAT/LC08/C01/T1/'+scene)\n",
        "  roi = loc\n",
        "  geemap.ee_export_image_to_drive(data1, description='%s' %scene, folder='LandsatData', region=roi, scale=10)"
      ],
      "execution_count": null,
      "outputs": [
        {
          "output_type": "stream",
          "text": [
            "Exporting LC08_140042_20200115 ...\n",
            "Exporting LC08_140042_20200131 ...\n",
            "Exporting LC08_140042_20200216 ...\n",
            "Exporting LC08_140042_20200303 ...\n",
            "Exporting LC08_140042_20200319 ...\n",
            "Exporting LC08_140042_20200404 ...\n",
            "Exporting LC08_140042_20200420 ...\n",
            "Exporting LC08_140042_20200506 ...\n",
            "Exporting LC08_140042_20200607 ...\n"
          ],
          "name": "stdout"
        }
      ]
    },
    {
      "cell_type": "code",
      "metadata": {
        "id": "YLEBOhfCz8g5",
        "colab": {
          "base_uri": "https://localhost:8080/"
        },
        "outputId": "fcf0ec99-eaac-4507-cc1c-13f93811a83d"
      },
      "source": [
        "pip install pyrsgis"
      ],
      "execution_count": null,
      "outputs": [
        {
          "output_type": "stream",
          "text": [
            "Collecting pyrsgis\n",
            "  Downloading https://files.pythonhosted.org/packages/fe/66/75afad55ef99270f9e19546a33b865eb241bb9339c648025815b7d75cd65/pyrsgis-0.3.7-py3-none-any.whl\n",
            "Installing collected packages: pyrsgis\n",
            "Successfully installed pyrsgis-0.3.7\n"
          ],
          "name": "stdout"
        }
      ]
    },
    {
      "cell_type": "code",
      "metadata": {
        "id": "PX5C77XdSEbu",
        "colab": {
          "base_uri": "https://localhost:8080/"
        },
        "outputId": "851d9bbf-a8c8-47e9-866b-402a7cb76b48"
      },
      "source": [
        "from google.colab import drive\n",
        "drive.mount('/content/drive/')\n",
        "%cd /content/drive/My Drive/LandsatData/"
      ],
      "execution_count": null,
      "outputs": [
        {
          "output_type": "stream",
          "text": [
            "Drive already mounted at /content/drive/; to attempt to forcibly remount, call drive.mount(\"/content/drive/\", force_remount=True).\n",
            "/content/drive/My Drive/LandsatData\n"
          ],
          "name": "stdout"
        }
      ]
    },
    {
      "cell_type": "code",
      "metadata": {
        "colab": {
          "base_uri": "https://localhost:8080/"
        },
        "id": "1fQpOx2Bu8kD",
        "outputId": "360d2e13-28ca-4da5-d130-e0f24ebb85ac"
      },
      "source": [
        "from pyrsgis import raster\n",
        "import numpy as np\n",
        "import math\n",
        "for scene in image_scene[0:1]:\n",
        "  file = scene+'.tif'\n",
        "  print(file)\n",
        "  ds, RedBand = raster.read(file, bands=4)\n",
        "  ds, NIRBand = raster.read(file, bands=5)\n",
        "  eq1 =2*NIRBand+1\n",
        "  eq2 = (2*NIRBand+1)\n",
        "  eq3 = 8*(NIRBand-RedBand)\n",
        "  eq4 = np.sqrt(eq2-eq3)\n",
        "  eq5 = 1/2*(eq1-eq4)\n",
        "  print(eq2)\n",
        "  print(eq3)\n",
        "  MSAVI = 1/2*(2*NIRBand+1-np.sqrt((2*NIRBand+1)**2-8*(NIRBand-RedBand)))\n",
        "  #raster.export(MSAVI, ds, '/content/drive/My Drive/LandsatData/NDVI_'+scene+'.tif', dtype='float64', bands='all') \n",
        "#print('landsat3.tif')"
      ],
      "execution_count": null,
      "outputs": [
        {
          "output_type": "stream",
          "text": [
            "LC08_140042_20200115.tif\n",
            "[[47071 47071 47159 47159 47159 47099 47099 47099 47329 47329]\n",
            " [46377 46377 46425 46425 46425 46971 46971 46971 47385 47385]\n",
            " [46377 46377 46425 46425 46425 46971 46971 46971 47385 47385]\n",
            " [46377 46377 46425 46425 46425 46971 46971 46971 47385 47385]\n",
            " [45831 45831 46439 46439 46439 47507 47507 47507 48019 48019]\n",
            " [45831 45831 46439 46439 46439 47507 47507 47507 48019 48019]\n",
            " [45831 45831 46439 46439 46439 47507 47507 47507 48019 48019]\n",
            " [46831 46831 47709 47709 47709 48141 48141 48141 48331 48331]\n",
            " [46831 46831 47709 47709 47709 48141 48141 48141 48331 48331]\n",
            " [46831 46831 47709 47709 47709 48141 48141 48141 48331 48331]]\n",
            "[[21960 21960 21920 21920 21920 21808 21808 21808 22008 22008]\n",
            " [21608 21608 21040 21040 21040 21064 21064 21064 21600 21600]\n",
            " [21608 21608 21040 21040 21040 21064 21064 21064 21600 21600]\n",
            " [21608 21608 21040 21040 21040 21064 21064 21064 21600 21600]\n",
            " [21056 21056 21104 21104 21104 20952 20952 20952 21664 21664]\n",
            " [21056 21056 21104 21104 21104 20952 20952 20952 21664 21664]\n",
            " [21056 21056 21104 21104 21104 20952 20952 20952 21664 21664]\n",
            " [20760 20760 21768 21768 21768 21592 21592 21592 21928 21928]\n",
            " [20760 20760 21768 21768 21768 21592 21592 21592 21928 21928]\n",
            " [20760 20760 21768 21768 21768 21592 21592 21592 21928 21928]]\n"
          ],
          "name": "stdout"
        }
      ]
    },
    {
      "cell_type": "code",
      "metadata": {
        "id": "WkTcjNS1vDTJ"
      },
      "source": [
        "#import numpy as np\n",
        "#MSAVI = 1/2*(2*NIRBand+1-np.sqrt((2*NIRBand+1)^2-8*(NIRBand-RedBand)))\n",
        "#raster.export(MSAVI, ds, '/content/drive/My Drive/export/MSAVI_%s.tif'%scene, dtype='int', bands='all') "
      ],
      "execution_count": null,
      "outputs": []
    },
    {
      "cell_type": "code",
      "metadata": {
        "id": "t_lWfN1rcFA3"
      },
      "source": [
        "array = np.array([[47071,345678,44863],[12344,36548,24535]])"
      ],
      "execution_count": null,
      "outputs": []
    },
    {
      "cell_type": "code",
      "metadata": {
        "id": "_QMGXyixFJKI"
      },
      "source": [
        ""
      ],
      "execution_count": null,
      "outputs": []
    }
  ]
}